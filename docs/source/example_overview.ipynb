{
 "cells": [
  {
   "cell_type": "markdown",
   "id": "d14fd8bc4568bc",
   "metadata": {},
   "source": [
    "# Overview plot [^download]\n",
    "\n",
    "[^download]: This notebook can be downloaded as **{nb-download}\n",
    "repr(example_overview.ipynb) **.\n",
    "\n",
    "This very simple example shows you how to make an overview plot provided a yaml configuration file and a result csv."
   ]
  },
  {
   "cell_type": "code",
   "execution_count": null,
   "id": "6a230b00c14cc64e",
   "metadata": {},
   "outputs": [],
   "source": [
    "from pathlib import Path\n",
    "\n",
    "import matplotlib.pyplot as plt\n",
    "\n",
    "from post_processing.dataclass.data_aplose import DataAplose"
   ]
  },
  {
   "cell_type": "markdown",
   "id": "4b10aaa427d1da6e",
   "metadata": {},
   "source": "### Load data"
  },
  {
   "cell_type": "code",
   "execution_count": null,
   "id": "c19ddde8bf965ee8",
   "metadata": {},
   "outputs": [],
   "source": [
    "yaml_file = Path(r\"resource/APOCADO_yaml.yml\")\n",
    "data = DataAplose.from_yaml(file=yaml_file)"
   ]
  },
  {
   "cell_type": "markdown",
   "id": "e17cf669b1d31019",
   "metadata": {},
   "source": "### Overview"
  },
  {
   "cell_type": "code",
   "execution_count": null,
   "id": "cf59962e0e23eb96",
   "metadata": {},
   "outputs": [],
   "source": [
    "data.overview()\n",
    "plt.tight_layout()\n",
    "plt.show()"
   ]
  }
 ],
 "metadata": {
  "kernelspec": {
   "display_name": "Python 3 (ipykernel)",
   "language": "python",
   "name": "python3"
  }
 },
 "nbformat": 4,
 "nbformat_minor": 9
}
