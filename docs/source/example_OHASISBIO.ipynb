{
 "cells": [
  {
   "cell_type": "code",
   "execution_count": null,
   "id": "a48ba0f245e3babf",
   "metadata": {},
   "outputs": [],
   "source": [
    "from __future__ import annotations\n",
    "\n",
    "# logger.addHandler(logging.FileHandler(r\"C:\\Users\\dupontma2\\Downloads\\log.txt\"))\n",
    "from pathlib import Path\n",
    "\n",
    "import matplotlib.pyplot as plt\n",
    "from pandas.tseries import frequencies\n",
    "\n",
    "from post_processing.dataclass.data_aplose import DataAplose\n",
    "from post_processing.dataclass.detection_filter import DetectionFilter\n",
    "from post_processing.dataclass.recording_period import RecordingPeriod"
   ]
  },
  {
   "cell_type": "markdown",
   "id": "9383edefda8f1271",
   "metadata": {},
   "source": "### Load data"
  },
  {
   "cell_type": "code",
   "execution_count": null,
   "id": "51570cabc69f98d2",
   "metadata": {},
   "outputs": [],
   "source": [
    "yaml_file = Path(r\"resource\\OHASISBIO_yaml.yml\")\n",
    "data_list = DataAplose.from_yaml(file=yaml_file)\n",
    "config_list = DetectionFilter.from_yaml(file=yaml_file)\n",
    "\n",
    "for data in data_list:\n",
    "    data.lat = -49\n",
    "    data.lon = 70"
   ]
  },
  {
   "cell_type": "markdown",
   "id": "458db3e72fe46b71",
   "metadata": {},
   "source": "### Overview"
  },
  {
   "cell_type": "code",
   "execution_count": null,
   "id": "5934640565a820d3",
   "metadata": {},
   "outputs": [],
   "source": [
    "for data in data_list:\n",
    "    data.overview()\n",
    "    plt.tight_layout()\n",
    "    plt.show()"
   ]
  },
  {
   "cell_type": "markdown",
   "id": "385d4b2457f175e0",
   "metadata": {},
   "source": "### Single barplot"
  },
  {
   "cell_type": "code",
   "execution_count": null,
   "id": "5bd3e390e3938047",
   "metadata": {},
   "outputs": [],
   "source": [
    "data = data_list[0]\n",
    "config = config_list[0]\n",
    "\n",
    "fig, ax = plt.subplots(1, 1)\n",
    "\n",
    "bin_size = frequencies.to_offset(\"1W-SUN\")\n",
    "ticks = frequencies.to_offset(\"1MS\")\n",
    "fmt = \"%b %Y\"\n",
    "\n",
    "recording_data = RecordingPeriod.from_path(config=config,\n",
    "                                           date_format=\"%Y_%m_%d_%H_%M_%S_%f%z\",\n",
    "                                           bin_size=bin_size,\n",
    "                                           )\n",
    "ax = data.set_ax(ax=ax, x_ticks_res=ticks, date_format=fmt)\n",
    "data.plot(\n",
    "    mode=\"histogram\",\n",
    "    annotator=\"lleboul\",\n",
    "    label=\"Madagascan pygmy blue whale chorus\",\n",
    "    ax=ax,\n",
    "    bin_size=bin_size,\n",
    "    effort=recording_data,\n",
    "    season=True,\n",
    ")\n",
    "plt.tight_layout()\n",
    "plt.show()\n"
   ]
  },
  {
   "cell_type": "markdown",
   "id": "27b93258810842aa",
   "metadata": {},
   "source": "### Multi-barplot"
  },
  {
   "cell_type": "code",
   "execution_count": null,
   "id": "867e18f1ffa6904",
   "metadata": {},
   "outputs": [],
   "source": [
    "fig, axs = plt.subplots(3, 1, figsize=(8, 10))\n",
    "\n",
    "bin_size = frequencies.to_offset(\"1W-SUN\")\n",
    "ticks = frequencies.to_offset(\"1MS\")\n",
    "fmt = \"%b %y\"\n",
    "for i in range(len(axs)):\n",
    "    data = data_list[i]\n",
    "    axs[i] = data_list[0].set_ax(ax=axs[i], x_ticks_res=ticks, date_format=fmt)\n",
    "    data.plot(\n",
    "        mode=\"histogram\",\n",
    "        annotator=\"lleboul\",\n",
    "        label=\"Madagascan pygmy blue whale chorus\",\n",
    "        ax=axs[i],\n",
    "        bin_size=bin_size,\n",
    "        season=True,\n",
    "    )\n",
    "\n",
    "plt.tight_layout()\n",
    "plt.show()\n"
   ]
  }
 ],
 "metadata": {
  "kernelspec": {
   "display_name": "Python 3 (ipykernel)",
   "language": "python",
   "name": "python3"
  }
 },
 "nbformat": 4,
 "nbformat_minor": 9
}
