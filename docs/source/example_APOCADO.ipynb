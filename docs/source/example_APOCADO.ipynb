{
 "cells": [
  {
   "cell_type": "code",
   "execution_count": null,
   "id": "6ea41f4ba78fb69f",
   "metadata": {},
   "outputs": [],
   "source": [
    "from __future__ import annotations\n",
    "\n",
    "from pathlib import Path\n",
    "\n",
    "import matplotlib.pyplot as plt\n",
    "from pandas import Timedelta\n",
    "from pandas.tseries import frequencies\n",
    "\n",
    "from post_processing.dataclass.data_aplose import DataAplose"
   ]
  },
  {
   "cell_type": "markdown",
   "id": "4b10aaa427d1da6e",
   "metadata": {},
   "source": "### Load data"
  },
  {
   "cell_type": "code",
   "execution_count": null,
   "id": "c19ddde8bf965ee8",
   "metadata": {},
   "outputs": [],
   "source": [
    "yaml_file = Path(r\"resource/APOCADO_yaml.yml\")\n",
    "data = DataAplose.from_yaml(file=yaml_file)\n",
    "data.lat = 47\n",
    "data.lon = -5"
   ]
  },
  {
   "cell_type": "markdown",
   "id": "e17cf669b1d31019",
   "metadata": {},
   "source": "### Overview"
  },
  {
   "cell_type": "code",
   "execution_count": null,
   "id": "cf59962e0e23eb96",
   "metadata": {},
   "outputs": [],
   "source": [
    "data.overview()\n",
    "plt.tight_layout()\n",
    "plt.show()"
   ]
  },
  {
   "cell_type": "markdown",
   "id": "29bb29560f971722",
   "metadata": {},
   "source": "### Single barplot"
  },
  {
   "cell_type": "code",
   "execution_count": null,
   "id": "8f7c3085e3f2550e",
   "metadata": {},
   "outputs": [],
   "source": [
    "fig, ax = plt.subplots(1, 1)\n",
    "\n",
    "bin_size = Timedelta(\"1h\")\n",
    "ticks = Timedelta(\"1h\")\n",
    "fmt = \"%H:%M\"\n",
    "\n",
    "ax = data.set_ax(ax=ax, x_ticks_res=ticks, date_format=fmt)\n",
    "data.plot(\n",
    "    mode=\"histogram\",\n",
    "    annotator=\"mdupon\",\n",
    "    label=[\"Odontocete whistle\", \"Odontocete click\", \"Odontocete buzz\"],\n",
    "    ax=ax,\n",
    "    bin_size=bin_size,\n",
    "    season=False,\n",
    ")\n",
    "plt.tight_layout()\n",
    "plt.show()"
   ]
  },
  {
   "cell_type": "markdown",
   "id": "2dd2f7611b2d5d73",
   "metadata": {},
   "source": "### Multi-barplot"
  },
  {
   "cell_type": "code",
   "execution_count": null,
   "id": "fd3b245c3fd9bce1",
   "metadata": {},
   "outputs": [],
   "source": [
    "fig, axs = plt.subplots(3, 1)\n",
    "\n",
    "bin_size = Timedelta(\"1h\")\n",
    "ticks = Timedelta(\"1h\")\n",
    "fmt = \"%H:%M\"\n",
    "\n",
    "lim = []\n",
    "for i in range(len(data.labels)):\n",
    "    axs[i] = data.set_ax(ax=axs[i], x_ticks_res=ticks, date_format=fmt)\n",
    "    data.plot(\n",
    "        mode=\"histogram\",\n",
    "        annotator=\"mdupon\",\n",
    "        label=data.labels[i],\n",
    "        ax=axs[i],\n",
    "        bin_size=bin_size,\n",
    "    )\n",
    "    lim.append(axs[i].get_ylim()[-1])\n",
    "\n",
    "for ax in axs:\n",
    "    ax.set_ylim([0, int(max(lim))])\n",
    "    ax.set_yticks(range(0, int(max(lim)), 4))\n",
    "\n",
    "plt.tight_layout()\n",
    "plt.show()"
   ]
  },
  {
   "cell_type": "markdown",
   "id": "5d82f65b7966fa04",
   "metadata": {},
   "source": "### Detection performances"
  },
  {
   "cell_type": "code",
   "execution_count": null,
   "id": "dd6b3d9e2e9284ae",
   "metadata": {},
   "outputs": [],
   "source": [
    "data.detection_perf(\n",
    "    annotators=[\"mdupon\", \"bcolon\"],\n",
    "    labels=\"Odontocete whistle\",\n",
    ")"
   ]
  },
  {
   "cell_type": "markdown",
   "id": "fdca3535add2d488",
   "metadata": {},
   "source": "### Agreement"
  },
  {
   "cell_type": "code",
   "execution_count": null,
   "id": "1995f0abbfa15e93",
   "metadata": {},
   "outputs": [],
   "source": [
    "fig, (ax1, ax2) = plt.subplots(1, 2, gridspec_kw={\"width_ratios\": [4, 1]})\n",
    "\n",
    "bin_size = Timedelta(\"1h\")\n",
    "ticks = frequencies.to_offset(\"2h\")\n",
    "fmt = \"%H:%M\"\n",
    "\n",
    "annotators = [\"mdupon\", \"bcolon\"]\n",
    "label = \"Odontocete buzz\"\n",
    "\n",
    "ax = data.set_ax(ax=ax1, x_ticks_res=ticks, date_format=fmt)\n",
    "\n",
    "data.plot(\n",
    "    mode=\"histogram\",\n",
    "    annotator=annotators,\n",
    "    label=label,\n",
    "    ax=ax1,\n",
    "    bin_size=bin_size,\n",
    ")\n",
    "\n",
    "data.plot(\n",
    "    mode=\"agreement\",\n",
    "    annotator=annotators,\n",
    "    label=label,\n",
    "    bin_size=bin_size,\n",
    "    ax=ax2,\n",
    ")\n",
    "plt.tight_layout()\n",
    "plt.show()"
   ]
  }
 ],
 "metadata": {
  "kernelspec": {
   "display_name": "Python 3 (ipykernel)",
   "language": "python",
   "name": "python3"
  }
 },
 "nbformat": 4,
 "nbformat_minor": 9
}
