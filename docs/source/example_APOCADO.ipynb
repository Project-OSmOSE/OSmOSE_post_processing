{
 "cells": [
  {
   "metadata": {},
   "cell_type": "code",
   "source": [
    "from __future__ import annotations\n",
    "from pathlib import Path\n",
    "import matplotlib.pyplot as plt\n",
    "from pandas import Timedelta\n",
    "from pandas.tseries import frequencies\n",
    "from post_processing.dataclass.data_aplose import DataAplose"
   ],
   "id": "6ea41f4ba78fb69f",
   "outputs": [],
   "execution_count": null
  },
  {
   "metadata": {},
   "cell_type": "markdown",
   "source": "### Load data",
   "id": "4b10aaa427d1da6e"
  },
  {
   "metadata": {},
   "cell_type": "code",
   "source": [
    "yaml_file = Path(r\"resource/APOCADO_yaml.yml\")\n",
    "data = DataAplose.from_yaml(file=yaml_file)\n",
    "data.lat = 47\n",
    "data.lon = -5"
   ],
   "id": "c19ddde8bf965ee8",
   "outputs": [],
   "execution_count": null
  },
  {
   "metadata": {},
   "cell_type": "markdown",
   "source": "### Overview",
   "id": "e17cf669b1d31019"
  },
  {
   "metadata": {},
   "cell_type": "code",
   "source": [
    "data.overview()\n",
    "plt.tight_layout()\n",
    "plt.show()"
   ],
   "id": "cf59962e0e23eb96",
   "outputs": [],
   "execution_count": null
  },
  {
   "metadata": {},
   "cell_type": "markdown",
   "source": "### Single barplot",
   "id": "29bb29560f971722"
  },
  {
   "metadata": {},
   "cell_type": "code",
   "source": [
    "fig, ax = plt.subplots(1, 1)\n",
    "\n",
    "bin_size = Timedelta(\"1h\")\n",
    "ticks = Timedelta(\"1h\")\n",
    "fmt = \"%H:%M\"\n",
    "\n",
    "ax = data.set_ax(ax=ax, x_ticks_res=ticks, date_format=fmt)\n",
    "data.plot(\n",
    "    mode=\"histogram\",\n",
    "    annotator=\"mdupon\",\n",
    "    label=[\"Odontocete whistle\", \"Odontocete click\", \"Odontocete buzz\"],\n",
    "    ax=ax,\n",
    "    bin_size=bin_size,\n",
    "    season=False,\n",
    ")\n",
    "plt.tight_layout()\n",
    "plt.show()"
   ],
   "id": "8f7c3085e3f2550e",
   "outputs": [],
   "execution_count": null
  },
  {
   "metadata": {},
   "cell_type": "markdown",
   "source": "### Multi-barplot",
   "id": "2dd2f7611b2d5d73"
  },
  {
   "metadata": {},
   "cell_type": "code",
   "source": [
    "fig, axs = plt.subplots(3, 1)\n",
    "\n",
    "bin_size = Timedelta(\"1h\")\n",
    "ticks = Timedelta(\"1h\")\n",
    "fmt = \"%H:%M\"\n",
    "\n",
    "lim = []\n",
    "for i in range(len(data.labels)):\n",
    "    axs[i] = data.set_ax(ax=axs[i], x_ticks_res=ticks, date_format=fmt)\n",
    "    data.plot(\n",
    "        mode=\"histogram\",\n",
    "        annotator=\"mdupon\",\n",
    "        label=data.labels[i],\n",
    "        ax=axs[i],\n",
    "        bin_size=bin_size,\n",
    "    )\n",
    "    lim.append(axs[i].get_ylim()[-1])\n",
    "\n",
    "for ax in axs:\n",
    "    ax.set_ylim([0, int(max(lim))])\n",
    "    ax.set_yticks(range(0, int(max(lim)), 4))\n",
    "\n",
    "plt.tight_layout()\n",
    "plt.show()"
   ],
   "id": "fd3b245c3fd9bce1",
   "outputs": [],
   "execution_count": null
  },
  {
   "metadata": {},
   "cell_type": "markdown",
   "source": "### Detection performances",
   "id": "5d82f65b7966fa04"
  },
  {
   "metadata": {},
   "cell_type": "code",
   "source": [
    "data.detection_perf(\n",
    "    annotators=[\"mdupon\", \"bcolon\"],\n",
    "    labels=\"Odontocete whistle\",\n",
    ")"
   ],
   "id": "dd6b3d9e2e9284ae",
   "outputs": [],
   "execution_count": null
  },
  {
   "metadata": {},
   "cell_type": "markdown",
   "source": "### Agreement",
   "id": "fdca3535add2d488"
  },
  {
   "metadata": {},
   "cell_type": "code",
   "source": [
    "fig, (ax1, ax2) = plt.subplots(1, 2, gridspec_kw={\"width_ratios\": [4, 1]})\n",
    "\n",
    "bin_size = Timedelta(\"1h\")\n",
    "ticks = frequencies.to_offset(\"2h\")\n",
    "fmt = \"%H:%M\"\n",
    "\n",
    "annotators = [\"mdupon\", \"bcolon\"]\n",
    "label = \"Odontocete buzz\"\n",
    "\n",
    "ax = data.set_ax(ax=ax1, x_ticks_res=ticks, date_format=fmt)\n",
    "\n",
    "data.plot(\n",
    "    mode=\"histogram\",\n",
    "    annotator=annotators,\n",
    "    label=label,\n",
    "    ax=ax1,\n",
    "    bin_size=bin_size,\n",
    ")\n",
    "\n",
    "data.plot(\n",
    "    mode=\"agreement\",\n",
    "    annotator=annotators,\n",
    "    label=label,\n",
    "    bin_size=bin_size,\n",
    "    ax=ax2,\n",
    ")\n",
    "plt.tight_layout()\n",
    "plt.show()"
   ],
   "id": "1995f0abbfa15e93",
   "outputs": [],
   "execution_count": null
  }
 ],
 "metadata": {
  "kernelspec": {
   "name": "python3",
   "language": "python",
   "display_name": "Python 3 (ipykernel)"
  }
 },
 "nbformat": 4,
 "nbformat_minor": 9
}
