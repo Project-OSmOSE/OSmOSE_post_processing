{
 "cells": [
  {
   "cell_type": "code",
   "execution_count": null,
   "id": "initial_id",
   "metadata": {
    "collapsed": true
   },
   "outputs": [],
   "source": [
    "from pathlib import Path\n",
    "\n",
    "import matplotlib.pyplot as plt\n",
    "from osekit.utils.timestamp_utils import strptime_from_text\n",
    "from pandas import Timedelta, Timestamp, read_csv\n",
    "\n",
    "from post_processing.utils.glider_utils import (\n",
    "    compute_acoustic_diversity,\n",
    "    export_gpx,\n",
    "    load_glider_nav,\n",
    "    plot_detections_with_nav_data,\n",
    ")"
   ]
  },
  {
   "cell_type": "markdown",
   "id": "429edfb71ec618a",
   "metadata": {},
   "source": "### Load data"
  },
  {
   "cell_type": "code",
   "execution_count": null,
   "id": "3014915fe657e321",
   "metadata": {},
   "outputs": [],
   "source": [
    "input_dir = Path(r\"resource\\OHAGEODAMS_nav\")\n",
    "nav = load_glider_nav(input_dir)\n",
    "nav = nav[nav[\"Timestamp\"] > Timestamp(\"2024-02-21\", tz=\"UTC\")]\n",
    "df = read_csv(Path(r\"resource\\OHAGEODAMS_results.csv\"), parse_dates=[\"start_datetime\", \"end_datetime\"]).dropna(subset=[\"annotation\"]).reset_index(drop=True)"
   ]
  },
  {
   "cell_type": "markdown",
   "id": "303cd23d5b4d12dd",
   "metadata": {},
   "source": "### Plot detection with nav data"
  },
  {
   "cell_type": "code",
   "execution_count": null,
   "id": "7b478cccaf1c70eb",
   "metadata": {},
   "outputs": [],
   "source": [
    "ticks = Timedelta(\"1d\")\n",
    "\n",
    "# plot specific labels\n",
    "plot_detections_with_nav_data(df=df[df[\"annotation\"].isin([\"Sperm_Whale\", \"Delphinids clics\"])], nav=nav, criterion=\"Depth\", ticks=ticks)\n",
    "plt.show()\n",
    "\n",
    "# plot all labels\n",
    "plot_detections_with_nav_data(df=df, nav=nav, criterion=\"Depth\", ticks=ticks)\n",
    "plt.show()"
   ]
  },
  {
   "cell_type": "markdown",
   "id": "798518fc43a69afc",
   "metadata": {},
   "source": "### Compute acoustic diversity"
  },
  {
   "cell_type": "code",
   "execution_count": null,
   "id": "395af53656d318b4",
   "metadata": {},
   "outputs": [],
   "source": [
    "task_status_filenames = read_csv(r\"resource\\OHAGEODAMS_status.csv\")[\"filename\"]\n",
    "time_vector = [strptime_from_text(f, \"%Y_%m_%d_%H_%M_%S\").tz_localize(\"UTC\") for f in task_status_filenames]\n",
    "\n",
    "df_acoustic_div = compute_acoustic_diversity(df=df, nav=nav, time_vector=time_vector)\n",
    "\n",
    "# df_acoustic_div.to_csv(Path(r'\\output\\path\\acoustic_diversity.csv'), index=False)"
   ]
  },
  {
   "cell_type": "markdown",
   "id": "aa6d95c921329545",
   "metadata": {},
   "source": "### Export navigation data to GPX"
  },
  {
   "cell_type": "code",
   "execution_count": null,
   "id": "54f691859e36b232",
   "metadata": {},
   "outputs": [],
   "source": [
    "export_gpx(nav=nav, output_dir=Path(r\"\\output\\path\"), output_file=\"test_trace\")"
   ]
  }
 ],
 "metadata": {
  "kernelspec": {
   "display_name": "Python 3",
   "language": "python",
   "name": "python3"
  },
  "language_info": {
   "codemirror_mode": {
    "name": "ipython",
    "version": 2
   },
   "file_extension": ".py",
   "mimetype": "text/x-python",
   "name": "python",
   "nbconvert_exporter": "python",
   "pygments_lexer": "ipython2",
   "version": "2.7.6"
  }
 },
 "nbformat": 4,
 "nbformat_minor": 5
}
